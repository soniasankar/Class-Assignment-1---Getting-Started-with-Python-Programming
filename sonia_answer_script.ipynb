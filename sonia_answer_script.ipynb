{
  "nbformat": 4,
  "nbformat_minor": 0,
  "metadata": {
    "colab": {
      "name": "sonia answer script.ipynb",
      "provenance": [],
      "collapsed_sections": [],
      "authorship_tag": "ABX9TyMrU3Hub1I0P4kkrLXAYLGC",
      "include_colab_link": true
    },
    "kernelspec": {
      "name": "python3",
      "display_name": "Python 3"
    }
  },
  "cells": [
    {
      "cell_type": "markdown",
      "metadata": {
        "id": "view-in-github",
        "colab_type": "text"
      },
      "source": [
        "<a href=\"https://colab.research.google.com/github/soniasankar/Class-Assignment-1---Getting-Started-with-Python-Programming/blob/master/sonia_answer_script.ipynb\" target=\"_parent\"><img src=\"https://colab.research.google.com/assets/colab-badge.svg\" alt=\"Open In Colab\"/></a>"
      ]
    },
    {
      "cell_type": "markdown",
      "metadata": {
        "id": "Lq_wmJJruJbL"
      },
      "source": [
        "2)"
      ]
    },
    {
      "cell_type": "code",
      "metadata": {
        "id": "qlhMSpaluM9T",
        "outputId": "b2de9fcd-1e32-4511-ccda-2cf6309160ec",
        "colab": {
          "base_uri": "https://localhost:8080/",
          "height": 50
        }
      },
      "source": [
        "from math import pi\n",
        "r=float(int(input(\"Enter radius of circle :\")))\n",
        "print(\"Area of circle is:\"+str(pi*r**2))"
      ],
      "execution_count": null,
      "outputs": [
        {
          "output_type": "stream",
          "text": [
            "Enter radius of circle :10\n",
            "Area of circle is:314.1592653589793\n"
          ],
          "name": "stdout"
        }
      ]
    },
    {
      "cell_type": "markdown",
      "metadata": {
        "id": "8VIUAC7AvdQF"
      },
      "source": [
        "3)"
      ]
    },
    {
      "cell_type": "code",
      "metadata": {
        "id": "jkC9vrcRvibx",
        "outputId": "80ea080c-b8ea-4da9-b507-f29351755289",
        "colab": {
          "base_uri": "https://localhost:8080/",
          "height": 67
        }
      },
      "source": [
        "str1=\"India is my country\"\n",
        "print()\n",
        "print(str1.count(\"India\"))\n",
        "print()\n"
      ],
      "execution_count": null,
      "outputs": [
        {
          "output_type": "stream",
          "text": [
            "\n",
            "1\n",
            "\n"
          ],
          "name": "stdout"
        }
      ]
    },
    {
      "cell_type": "markdown",
      "metadata": {
        "id": "fKVx1g_cwDmm"
      },
      "source": [
        "4)\n"
      ]
    },
    {
      "cell_type": "code",
      "metadata": {
        "id": "56M-YmDQJVZu",
        "outputId": "fb4c8e3b-9b0f-4c38-948c-8757d7aadab1",
        "colab": {
          "base_uri": "https://localhost:8080/",
          "height": 50
        }
      },
      "source": [
        "def common_data(list1, list2): \n",
        "    result = False\n",
        "  \n",
        "    for x in list1: \n",
        "  \n",
        "        for y in list2: \n",
        "             if x == y: \n",
        "                result = True\n",
        "                return result  \n",
        "                  \n",
        "    return result \n",
        "      \n",
        "\n",
        "a = [1, 2, 3, 4, 5] \n",
        "b = [5, 6, 7, 8, 9] \n",
        "print(common_data(a, b)) \n",
        "  \n",
        "a = [1, 2, 3, 4, 5] \n",
        "b = [6, 7, 8, 9] \n",
        "print(common_data(a, b)) "
      ],
      "execution_count": null,
      "outputs": [
        {
          "output_type": "stream",
          "text": [
            "True\n",
            "False\n"
          ],
          "name": "stdout"
        }
      ]
    },
    {
      "cell_type": "markdown",
      "metadata": {
        "id": "CrnZEzuoJaC8"
      },
      "source": [
        "5)"
      ]
    },
    {
      "cell_type": "code",
      "metadata": {
        "id": "B-HN8kxNJgFg",
        "outputId": "513200f4-4f5c-4bc6-fa4f-792ab846abbc",
        "colab": {
          "base_uri": "https://localhost:8080/",
          "height": 67
        }
      },
      "source": [
        "#prg to check if a number is prime or not\n",
        "#to take input from the user\n",
        "num=int(input(\"Enter a number:\"))\n",
        "#prime number are grater than 1\n",
        "if num>1:\n",
        "  #check for factor\n",
        "  for i in range(2,num):\n",
        "    if (num%i)==0:\n",
        "      print(num,\"is not a prime number\")\n",
        "      print(i,\"times\",num//i,\"is\",num)\n",
        "      break\n",
        "    else:\n",
        "      print(num,\"is a prime number\")\n",
        "    #if input is less than or equal to 1,it is not prime\n",
        "else:\n",
        "      print(num,\"is not a prime number\")"
      ],
      "execution_count": null,
      "outputs": [
        {
          "output_type": "stream",
          "text": [
            "Enter a number:408\n",
            "408 is not a prime number\n",
            "2 times 204 is 408\n"
          ],
          "name": "stdout"
        }
      ]
    },
    {
      "cell_type": "markdown",
      "metadata": {
        "id": "msb44YquLw65"
      },
      "source": [
        "6)\n",
        "   b)\n",
        "   "
      ]
    },
    {
      "cell_type": "code",
      "metadata": {
        "id": "Mn3h7f_hL2RW",
        "outputId": "8192aa8e-0cf4-42c9-deba-e1f9e52154cc",
        "colab": {
          "base_uri": "https://localhost:8080/",
          "height": 50
        }
      },
      "source": [
        "import time\n",
        "#define a function\n",
        "def search(list,n):\n",
        "  for i in range (len(list)):\n",
        "    if str(list[i])==str(n):\n",
        "      return True\n",
        "  return False#\n",
        "#list which contain both string and number\n",
        "list=[1,2,504,'name',28,'python','ram']\n",
        "n=input(\"Enter your string/number to search :\")\n",
        "  \n",
        "if search(list,n): \n",
        "    print(\"Found\") \n",
        "    time.sleep(10) \n",
        "else: \n",
        "    print(\"Not Found\") \n",
        "    time.sleep(10)"
      ],
      "execution_count": null,
      "outputs": [
        {
          "output_type": "stream",
          "text": [
            "Enter your string/number to search :name\n",
            "Found\n"
          ],
          "name": "stdout"
        }
      ]
    },
    {
      "cell_type": "markdown",
      "metadata": {
        "id": "nMECQBDt_aSS"
      },
      "source": [
        "7)\n"
      ]
    },
    {
      "cell_type": "code",
      "metadata": {
        "id": "x1TBOyZO_bzA",
        "outputId": "6e2100fb-5f74-4b69-cb2b-31408115c34a",
        "colab": {
          "base_uri": "https://localhost:8080/",
          "height": 50
        }
      },
      "source": [
        "#function which returns reverse of string\n",
        "def isPalindrome(s):\n",
        "  return s == s[::-1]\n",
        " \n",
        "s= str(input(\"Enter the string:\"))\n",
        "ans= isPalindrome(s)\n",
        "if ans:\n",
        "  print(\"The string is Palindrome\")\n",
        "else:\n",
        "    print(\"The string is not Palindrome\")"
      ],
      "execution_count": 9,
      "outputs": [
        {
          "output_type": "stream",
          "text": [
            "Enter the string:malayalam\n",
            "The string is Palindrome\n"
          ],
          "name": "stdout"
        }
      ]
    }
  ]
}